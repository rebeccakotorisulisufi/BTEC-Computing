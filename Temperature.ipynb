{
 "cells": [
  {
   "cell_type": "code",
   "execution_count": null,
   "metadata": {},
   "outputs": [],
   "source": [
    "temperature = int(input(\"What is the temperature in celsius? : \"))\n",
    "\n",
    "if temperature <= 15:\n",
    "    print (\"It is cold ouside!\\n You should wear a coat, trousers, a hat, a scarf, and gloves!!\")\n",
    "elif temperature <= 21:\n",
    "    print (\"It is warm outside!\\n Maybe you should bring a jacker/cardigan!\")\n",
    "elif temperature <= 28:\n",
    "    print (\"It is hot outside!\\n You should wear shorts and a short sleeved top!\")\n",
    "elif temperature <= 35:\n",
    "    print (\"It is really hot outside!\\n You should wear shorts and a short sleeved top!\")\n",
    "elif temperature > 36:\n",
    "    print (\"It is very very hot outside!\\n You should wear a swimming costume and go and cool down in a pool/beach\")\n",
    "else:\n",
    "    print (\"ERROR! Please type in a valid temperature\")\n",
    "\n"
   ]
  }
 ],
 "metadata": {
  "kernelspec": {
   "display_name": "Python 3",
   "language": "python",
   "name": "python3"
  },
  "language_info": {
   "codemirror_mode": {
    "name": "ipython",
    "version": 3
   },
   "file_extension": ".py",
   "mimetype": "text/x-python",
   "name": "python",
   "nbconvert_exporter": "python",
   "pygments_lexer": "ipython3",
   "version": "3.5.2"
  }
 },
 "nbformat": 4,
 "nbformat_minor": 2
}
